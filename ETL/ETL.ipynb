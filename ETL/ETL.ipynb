{
 "cells": [
  {
   "cell_type": "markdown",
   "metadata": {},
   "source": [
    "# Extract One line of Data from the XML File"
   ]
  },
  {
   "cell_type": "code",
   "execution_count": 14,
   "metadata": {},
   "outputs": [
    {
     "data": {
      "text/plain": [
       "0"
      ]
     },
     "execution_count": 14,
     "metadata": {},
     "output_type": "execute_result"
    }
   ],
   "source": [
    "import os\n",
    "os.system(\"sed -n '2p' PRD.REV.TU.DWH.REGULAR_230412_090000_0000001.xml > ./output/entity.xml\")"
   ]
  },
  {
   "cell_type": "markdown",
   "metadata": {},
   "source": [
    "# Convert `entity.xml` to `entity.json` "
   ]
  },
  {
   "cell_type": "code",
   "execution_count": 15,
   "metadata": {},
   "outputs": [
    {
     "name": "stdout",
     "output_type": "stream",
     "text": [
      "Conversion complete. JSON data written to output.json.\n"
     ]
    }
   ],
   "source": [
    "import sys\n",
    "import xmltodict\n",
    "import json\n",
    "import xml\n",
    "\n",
    "def convert_xml_to_json(xml_file):\n",
    "    try:\n",
    "        with open(xml_file, 'r') as f:\n",
    "            xml_data = f.read()\n",
    "\n",
    "        json_data = xmltodict.parse(xml_data, force_list={'item'}) \n",
    "        return json_data\n",
    "    except FileNotFoundError:\n",
    "        print(f\"Error: File '{xml_file}' not found.\")\n",
    "        sys.exit(1)\n",
    "    except xml.parsers.expat.ExpatError as e:\n",
    "        print(f\"Error parsing XML: {e}\")\n",
    "        sys.exit(1)\n",
    "\n",
    "xml_file = \"./output/entity.xml\"\n",
    "json_data = convert_xml_to_json(xml_file)\n",
    "\n",
    "with open('./output/entity.json', 'w') as json_file:\n",
    "    json.dump(json_data, json_file, indent=4)\n",
    "print(\"Conversion complete. JSON data written to output.json.\")\n"
   ]
  },
  {
   "cell_type": "markdown",
   "metadata": {},
   "source": [
    "# Determine the equivelent Relational Schema for the json File"
   ]
  },
  {
   "cell_type": "code",
   "execution_count": 16,
   "metadata": {},
   "outputs": [],
   "source": [
    "import json\n",
    "\n",
    "#define data detection\n",
    "def infer_data_type(value):\n",
    "    if isinstance(value, int):\n",
    "        return \"NUMBER\"\n",
    "    elif isinstance(value, float):\n",
    "        return \"NUMBER\"\n",
    "    elif isinstance(value, bool):\n",
    "        return \"BOOLEAN\"\n",
    "    elif isinstance(value, str):\n",
    "        return \"VARCHAR2(255 BYTE)\"\n",
    "    elif isinstance(value, dict):\n",
    "        return \"INT\"\n",
    "    elif isinstance(value, list):\n",
    "        return \"INT\"\n",
    "    else:\n",
    "        return \"VARCHAR2(255 BYTE)\" \n",
    "\n",
    "def json_to_sql(json_data):\n",
    "    tables = {}\n",
    "    dependencies = {}\n",
    "\n",
    "    def process_data(data, table_name=''):\n",
    "        nonlocal tables, dependencies\n",
    "        if isinstance(data, dict):\n",
    "            if not table_name:\n",
    "                table_name = 'main'\n",
    "                tables[table_name] = {}\n",
    "            for key, value in data.items():\n",
    "                column_name = key.replace('@', '')\n",
    "                column_type = infer_data_type(value)\n",
    "                if isinstance(value, dict) or isinstance(value, list):\n",
    "                    sub_table_name = key[:30].replace('@', '')\n",
    "                    if sub_table_name not in tables:\n",
    "                        tables[sub_table_name] = {}\n",
    "                    tables[table_name][column_name] = f\"{column_type} REFERENCES {sub_table_name}(id)\"\n",
    "                    dependencies[sub_table_name] = dependencies.get(sub_table_name, 0) + 1\n",
    "                    process_data(value, sub_table_name)\n",
    "                else:\n",
    "                    tables[table_name][column_name] = column_type\n",
    "        elif isinstance(data, list):\n",
    "            if len(data) > 0 and (isinstance(data[0], dict) or isinstance(data[0], list)):\n",
    "                sub_table_name = f\"{table_name}_list\"\n",
    "                if sub_table_name not in tables:\n",
    "                    tables[sub_table_name] = {}\n",
    "                tables[table_name][table_name[:30].replace('@', '')] = f\"{infer_data_type(data[0])} REFERENCES {sub_table_name}(id)\"\n",
    "                dependencies[sub_table_name] = dependencies.get(sub_table_name, 0) + 1\n",
    "                process_data(data[0], sub_table_name)\n",
    "\n",
    "    process_data(json_data)\n",
    "\n",
    "    # Sort tables based on their dependencies\n",
    "    sorted_tables = sorted(tables.keys(), key=lambda x: dependencies.get(x, 0))\n",
    "\n",
    "    sql_statements = []\n",
    "    for table_name in sorted_tables:\n",
    "        create_table_sql = f\"CREATE TABLE {table_name} (\\n\"\n",
    "        for column, data_type in tables[table_name].items():\n",
    "            if column == 'id':\n",
    "                create_table_sql += f\"    {column} NUMBER(10,0) PRIMARY KEY GENERATED ALWAYS AS IDENTITY,\\n\"\n",
    "            else:\n",
    "                create_table_sql += f\"    {column} {data_type.upper()},\\n\"\n",
    "        create_table_sql = create_table_sql.rstrip(',\\n') + \"\\n);\"\n",
    "        sql_statements.append(create_table_sql)\n",
    "\n",
    "    return sql_statements\n",
    "\n",
    "def main():\n",
    "    with open('./output/entity.json', 'r') as file:\n",
    "        json_data = json.load(file)\n",
    "\n",
    "    sql_statements = json_to_sql(json_data)\n",
    "\n",
    "    with open('./output/schema.sql' , 'a') as file:\n",
    "        for statement in sql_statements:\n",
    "            file.write(f\"{statement}\\n\")\n",
    "\n",
    "if __name__ == \"__main__\":\n",
    "    main()\n"
   ]
  },
  {
   "cell_type": "markdown",
   "metadata": {},
   "source": [
    "# Reverse the order of creation"
   ]
  },
  {
   "cell_type": "code",
   "execution_count": 17,
   "metadata": {},
   "outputs": [],
   "source": [
    "\n",
    "with open('./output/schema.sql', 'r') as file:\n",
    "    sql_content = file.read()\n",
    "\n",
    "sql_queries = sql_content.split(';')\n",
    "\n",
    "\n",
    "sql_queries = [query.strip() for query in sql_queries if query.strip()]\n",
    "\n",
    "sql_queries.reverse()\n",
    "\n",
    "reversed_sql_content = ';\\n'.join(sql_queries)\n",
    "\n",
    "with open('./output/schema.sql', 'w') as file:\n",
    "    file.write(reversed_sql_content)\n"
   ]
  }
 ],
 "metadata": {
  "kernelspec": {
   "display_name": "Python 3",
   "language": "python",
   "name": "python3"
  },
  "language_info": {
   "codemirror_mode": {
    "name": "ipython",
    "version": 3
   },
   "file_extension": ".py",
   "mimetype": "text/x-python",
   "name": "python",
   "nbconvert_exporter": "python",
   "pygments_lexer": "ipython3",
   "version": "3.8.10"
  }
 },
 "nbformat": 4,
 "nbformat_minor": 2
}
